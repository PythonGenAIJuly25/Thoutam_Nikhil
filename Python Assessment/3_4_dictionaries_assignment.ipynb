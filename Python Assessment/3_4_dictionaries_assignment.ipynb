{
  "nbformat": 4,
  "nbformat_minor": 0,
  "metadata": {
    "colab": {
      "provenance": []
    },
    "kernelspec": {
      "name": "python3",
      "display_name": "Python 3"
    },
    "language_info": {
      "name": "python"
    }
  },
  "cells": [
    {
      "cell_type": "markdown",
      "source": [
        "Module 3: Data Structures Assignments\n",
        "Lesson 3.4: Dictionaries"
      ],
      "metadata": {
        "id": "CDhXZoWdKrjy"
      }
    },
    {
      "cell_type": "markdown",
      "source": [
        "Assignment 1: Creating and Accessing Dictionaries\n",
        "Create a dictionary with the first 10 positive integers as keys and their squares as values. Print the dictionary.\n"
      ],
      "metadata": {
        "id": "5MIamdnmKvDh"
      }
    },
    {
      "cell_type": "code",
      "execution_count": null,
      "metadata": {
        "colab": {
          "base_uri": "https://localhost:8080/"
        },
        "id": "WwzIq0TIKqYn",
        "outputId": "3e8acd0e-82ba-4e52-ee5a-445417e39b44"
      },
      "outputs": [
        {
          "output_type": "stream",
          "name": "stdout",
          "text": [
            "{1: 1, 2: 4, 3: 9, 4: 16, 5: 25, 6: 36, 7: 49, 8: 64, 9: 81, 10: 100}\n"
          ]
        }
      ],
      "source": [
        "dict1={i:i**2 for i in range(1,11)}\n",
        "print(dict1)"
      ]
    },
    {
      "cell_type": "markdown",
      "source": [
        "Assignment 2: Accessing Dictionary Elements\n",
        "Print the value of the key 5 and the keys of the dictionary created in Assignment 1."
      ],
      "metadata": {
        "id": "-APiNkkhLeZO"
      }
    },
    {
      "cell_type": "code",
      "source": [
        "for i in dict1:\n",
        "  if i==5:\n",
        "    print(dict1[i])\n",
        "print(dict1.values())\n",
        "print(dict1.keys())"
      ],
      "metadata": {
        "colab": {
          "base_uri": "https://localhost:8080/"
        },
        "id": "gVWfVKTDLe_y",
        "outputId": "fdd92b59-05b9-4a49-abbd-a1435963ed4a"
      },
      "execution_count": null,
      "outputs": [
        {
          "output_type": "stream",
          "name": "stdout",
          "text": [
            "25\n",
            "dict_values([1, 4, 9, 16, 25, 36, 49, 64, 81, 100])\n",
            "dict_keys([1, 2, 3, 4, 5, 6, 7, 8, 9, 10])\n"
          ]
        }
      ]
    },
    {
      "cell_type": "markdown",
      "source": [
        "Assignment 3: Dictionary Methods\n",
        "Add a new key-value pair (11, 121) to the dictionary created in Assignment 1 and then remove the key-value pair with key 1. Print the modified dictionary."
      ],
      "metadata": {
        "id": "QgFNtLngMIcC"
      }
    },
    {
      "cell_type": "code",
      "source": [
        "dict1.update({11:121})\n",
        "dict1.pop(1)\n",
        "print(dict1)"
      ],
      "metadata": {
        "colab": {
          "base_uri": "https://localhost:8080/"
        },
        "id": "MKBfb_KvMJEl",
        "outputId": "4fd46062-f4e1-40b7-f8ac-80e931ee8943"
      },
      "execution_count": null,
      "outputs": [
        {
          "output_type": "stream",
          "name": "stdout",
          "text": [
            "{2: 4, 3: 9, 4: 16, 5: 25, 6: 36, 7: 49, 8: 64, 9: 81, 10: 100, 11: 121}\n"
          ]
        }
      ]
    },
    {
      "cell_type": "markdown",
      "source": [
        "Assignment 4: Iterating Over Dictionaries\n",
        "Iterate over the dictionary created in Assignment 1 and print each key-value pair.\n"
      ],
      "metadata": {
        "id": "usmT-rUWM5dy"
      }
    },
    {
      "cell_type": "code",
      "source": [
        "for key,value in dict1.items():\n",
        "  print(f\"({key}:{value})\")"
      ],
      "metadata": {
        "colab": {
          "base_uri": "https://localhost:8080/"
        },
        "id": "GfDwKcPmM68n",
        "outputId": "d60703b2-95b8-44ca-a383-492d19a6bc3d"
      },
      "execution_count": null,
      "outputs": [
        {
          "output_type": "stream",
          "name": "stdout",
          "text": [
            "(2:4)\n",
            "(3:9)\n",
            "(4:16)\n",
            "(5:25)\n",
            "(6:36)\n",
            "(7:49)\n",
            "(8:64)\n",
            "(9:81)\n",
            "(10:100)\n",
            "(11:121)\n"
          ]
        }
      ]
    },
    {
      "cell_type": "markdown",
      "source": [
        "Assignment 5: Dictionary Comprehensions\n",
        "Create a new dictionary containing the cubes of the first 10 positive integers using a dictionary comprehension. Print the new dictionary."
      ],
      "metadata": {
        "id": "yEusFlG_O-VJ"
      }
    },
    {
      "cell_type": "code",
      "source": [
        "dict1={i:i**3 for i in range(1,11)}\n",
        "print(dict1)"
      ],
      "metadata": {
        "colab": {
          "base_uri": "https://localhost:8080/"
        },
        "id": "B0ukgPPjO_GV",
        "outputId": "b591afee-edb4-425b-c7f4-64a1b06544bf"
      },
      "execution_count": null,
      "outputs": [
        {
          "output_type": "stream",
          "name": "stdout",
          "text": [
            "{1: 1, 2: 8, 3: 27, 4: 64, 5: 125, 6: 216, 7: 343, 8: 512, 9: 729, 10: 1000}\n"
          ]
        }
      ]
    },
    {
      "cell_type": "markdown",
      "source": [
        "Assignment 6: Merging Dictionaries\n",
        "Create two dictionaries: one with keys as the first 5 positive integers and values as their squares, and another with keys as the next 5 positive integers and values as their squares. Merge these dictionaries into a single dictionary and print it."
      ],
      "metadata": {
        "id": "8ztBG31jPlZU"
      }
    },
    {
      "cell_type": "code",
      "source": [
        "dict1={i:i**2 for i in range(1,6)}\n",
        "dict2={i:i**2 for i in range(6,11)}\n",
        "dict1.update(dict2)\n",
        "print(dict1)"
      ],
      "metadata": {
        "colab": {
          "base_uri": "https://localhost:8080/"
        },
        "id": "p9yu3rWkPmS4",
        "outputId": "530cc95c-74ae-4c5f-a5ff-a1663d2605af"
      },
      "execution_count": null,
      "outputs": [
        {
          "output_type": "stream",
          "name": "stdout",
          "text": [
            "{1: 1, 2: 4, 3: 9, 4: 16, 5: 25, 6: 36, 7: 49, 8: 64, 9: 81, 10: 100}\n"
          ]
        }
      ]
    },
    {
      "cell_type": "markdown",
      "source": [
        "Assignment 7: Nested Dictionaries\n",
        "Create a nested dictionary representing a student with keys 'name', 'age', 'grades', where 'grades' is another dictionary with keys 'math', 'science', and 'english'. Print the nested dictionary."
      ],
      "metadata": {
        "id": "wXv-ygdxVLWv"
      }
    },
    {
      "cell_type": "code",
      "source": [
        "students={\"name\":\"nikhil\",\"age\":24,\"grades\":{\"math\":90,\"science\":80,\"english\":70}}\n",
        "print(students)"
      ],
      "metadata": {
        "colab": {
          "base_uri": "https://localhost:8080/"
        },
        "id": "LTdha3b-VOmD",
        "outputId": "692ec3b3-3894-4bec-89e7-86663e18b3b7"
      },
      "execution_count": null,
      "outputs": [
        {
          "output_type": "stream",
          "name": "stdout",
          "text": [
            "{'name': 'nikhil', 'age': 24, 'grades': {'math': 90, 'science': 80, 'english': 70}}\n"
          ]
        }
      ]
    },
    {
      "cell_type": "markdown",
      "source": [
        "Assignment 8: Dictionary of Lists\n",
        "Create a dictionary where the keys are the first 5 positive integers and the values are lists containing the first 5 multiples of the key. Print the dictionary."
      ],
      "metadata": {
        "id": "dLN7dujpWLQq"
      }
    },
    {
      "cell_type": "code",
      "source": [
        "dict1={i:[num*1 for num in range(1,6)] for i in range(1,6)}\n",
        "print(dict1)"
      ],
      "metadata": {
        "colab": {
          "base_uri": "https://localhost:8080/"
        },
        "id": "7mStUVV8WMF2",
        "outputId": "8bc33a77-83d7-4e28-8463-6d81dc1d1d31"
      },
      "execution_count": null,
      "outputs": [
        {
          "output_type": "stream",
          "name": "stdout",
          "text": [
            "{1: [1, 2, 3, 4, 5], 2: [1, 2, 3, 4, 5], 3: [1, 2, 3, 4, 5], 4: [1, 2, 3, 4, 5], 5: [1, 2, 3, 4, 5]}\n"
          ]
        }
      ]
    },
    {
      "cell_type": "markdown",
      "source": [
        "Assignment 9: Dictionary of Tuples\n",
        "Create a dictionary where the keys are the first 5 positive integers and the values are tuples containing the key and its square. Print the dictionary."
      ],
      "metadata": {
        "id": "0AwN9JRFXCcA"
      }
    },
    {
      "cell_type": "code",
      "source": [
        "dict1={i:(i,i**2) for i in range(1,6)}\n",
        "print(dict1)"
      ],
      "metadata": {
        "colab": {
          "base_uri": "https://localhost:8080/"
        },
        "id": "IT-GDSiEXDP4",
        "outputId": "321cf87a-0f18-40c3-dd34-7d40c8b4999e"
      },
      "execution_count": null,
      "outputs": [
        {
          "output_type": "stream",
          "name": "stdout",
          "text": [
            "{1: (1, 1), 2: (2, 4), 3: (3, 9), 4: (4, 16), 5: (5, 25)}\n"
          ]
        }
      ]
    },
    {
      "cell_type": "markdown",
      "source": [
        "Assignment 10: Dictionary and List Conversion\n",
        "Create a dictionary with the first 5 positive integers as keys and their squares as values. Convert the dictionary to a list of tuples and print it."
      ],
      "metadata": {
        "id": "Q4t5Um3NYZ47"
      }
    },
    {
      "cell_type": "code",
      "source": [
        "dict1={i:i**2 for i in range(1,6)}\n",
        "print(dict1)\n",
        "list1=list(dict1.items())\n",
        "print(list1)"
      ],
      "metadata": {
        "colab": {
          "base_uri": "https://localhost:8080/"
        },
        "id": "BnoOevsZYaqz",
        "outputId": "9ecf3d88-d192-46f5-e395-79adc94bc3b0"
      },
      "execution_count": null,
      "outputs": [
        {
          "output_type": "stream",
          "name": "stdout",
          "text": [
            "{1: 1, 2: 4, 3: 9, 4: 16, 5: 25}\n",
            "[(1, 1), (2, 4), (3, 9), (4, 16), (5, 25)]\n"
          ]
        }
      ]
    },
    {
      "cell_type": "markdown",
      "source": [
        "Assignment 11: Dictionary Filtering\n",
        "Create a dictionary with the first 10 positive integers as keys and their squares as values. Create a new dictionary containing only the key-value pairs where the key is even. Print the new dictionary."
      ],
      "metadata": {
        "id": "O5uabReRZh3I"
      }
    },
    {
      "cell_type": "code",
      "source": [
        "dict1={i:i**2 for i in range(1,11) if i%2==0}\n",
        "print(dict1)"
      ],
      "metadata": {
        "colab": {
          "base_uri": "https://localhost:8080/"
        },
        "id": "KpYsukQNZigH",
        "outputId": "abab1ca7-a7ab-44a6-cc44-6887990e3cde"
      },
      "execution_count": null,
      "outputs": [
        {
          "output_type": "stream",
          "name": "stdout",
          "text": [
            "{2: 4, 4: 16, 6: 36, 8: 64, 10: 100}\n"
          ]
        }
      ]
    },
    {
      "cell_type": "markdown",
      "source": [
        "Assignment 12: Dictionary Key and Value Transformation\n",
        "Create a dictionary with the first 5 positive integers as keys and their squares as values. Create a new dictionary with keys and values swapped. Print the new dictionary."
      ],
      "metadata": {
        "id": "ht12R28MaS2i"
      }
    },
    {
      "cell_type": "code",
      "source": [
        "dict1={i:i**2 for i in range(1,6)}\n",
        "print(dict1)\n",
        "dict2={value:key for key ,value in dict1.items()}\n",
        "print(dict2)"
      ],
      "metadata": {
        "colab": {
          "base_uri": "https://localhost:8080/"
        },
        "id": "3tJLmrdPaTkC",
        "outputId": "459cfc65-5a29-414b-bb66-51d419a87e6d"
      },
      "execution_count": null,
      "outputs": [
        {
          "output_type": "stream",
          "name": "stdout",
          "text": [
            "{1: 1, 2: 4, 3: 9, 4: 16, 5: 25}\n",
            "{1: 1, 4: 2, 9: 3, 16: 4, 25: 5}\n"
          ]
        }
      ]
    },
    {
      "cell_type": "markdown",
      "source": [
        "Assignment 13: Default Dictionary\n",
        "Create a default dictionary where each key has a default value of an empty list. Add some elements to the lists and print the dictionary."
      ],
      "metadata": {
        "id": "SRQEYlNcbY_7"
      }
    },
    {
      "cell_type": "code",
      "source": [],
      "metadata": {
        "id": "JLhKwMS9dxy0"
      },
      "execution_count": null,
      "outputs": []
    },
    {
      "cell_type": "markdown",
      "source": [
        "Assignment 14: Counting with Dictionaries\n",
        "Write a function that takes a string and returns a dictionary with the count of each character in the string. Print the dictionary."
      ],
      "metadata": {
        "id": "9gREzQUKdxaG"
      }
    },
    {
      "cell_type": "code",
      "source": [
        "def count(str):\n",
        "  dict1={}\n",
        "  for i in str:\n",
        "    if i in dict1:\n",
        "      dict1[i]+=1\n",
        "    else:\n",
        "      dict1[i]=1\n",
        "  return dict1\n",
        "print(count(\"nikhil\"))"
      ],
      "metadata": {
        "colab": {
          "base_uri": "https://localhost:8080/"
        },
        "id": "HDL6Q8DJd3iG",
        "outputId": "6ff9b689-4e6f-43a7-90d5-ca238cbca1be"
      },
      "execution_count": null,
      "outputs": [
        {
          "output_type": "stream",
          "name": "stdout",
          "text": [
            "{'n': 1, 'i': 2, 'k': 1, 'h': 1, 'l': 1}\n"
          ]
        }
      ]
    },
    {
      "cell_type": "markdown",
      "source": [
        "Assignment 15: Dictionary and JSON\n",
        "Create a dictionary representing a book with keys 'title', 'author', 'year', and 'genre'. Convert the dictionary to a JSON string and print it."
      ],
      "metadata": {
        "id": "XssvR3lkfJWE"
      }
    },
    {
      "cell_type": "code",
      "source": [
        "import json\n",
        "book={\"title\":\"Manga\",\"author\":\"Nikhil\" ,\"year\":2023,\"genre\":\"Manga\"}\n",
        "json_books=json.dumps(book)\n",
        "print(json.dumps(book))"
      ],
      "metadata": {
        "colab": {
          "base_uri": "https://localhost:8080/"
        },
        "id": "N-ezjnwkfIkB",
        "outputId": "486b2d90-e75e-4e99-c65e-f33cb45be73a"
      },
      "execution_count": null,
      "outputs": [
        {
          "output_type": "stream",
          "name": "stdout",
          "text": [
            "{\"title\": \"Manga\", \"author\": \"Nikhil\", \"year\": 2023, \"genre\": \"Manga\"}\n"
          ]
        }
      ]
    }
  ]
}